{
 "cells": [
  {
   "cell_type": "code",
   "execution_count": 92,
   "id": "2e30d01b",
   "metadata": {},
   "outputs": [],
   "source": [
    "import pandas as pd"
   ]
  },
  {
   "cell_type": "code",
   "execution_count": 93,
   "id": "e3013621",
   "metadata": {},
   "outputs": [],
   "source": [
    "df= pd.read_csv('data1.csv')"
   ]
  },
  {
   "cell_type": "code",
   "execution_count": 94,
   "id": "81af68fd",
   "metadata": {},
   "outputs": [
    {
     "name": "stdout",
     "output_type": "stream",
     "text": [
      "(18396, 17)\n"
     ]
    }
   ],
   "source": [
    "# Correct way to get the shape of the DataFrame\n",
    "df_shape = df.shape\n",
    "\n",
    "# Print the shape\n",
    "print(df_shape)\n"
   ]
  },
  {
   "cell_type": "code",
   "execution_count": 95,
   "id": "2e6891e3",
   "metadata": {},
   "outputs": [
    {
     "data": {
      "text/html": [
       "<div>\n",
       "<style scoped>\n",
       "    .dataframe tbody tr th:only-of-type {\n",
       "        vertical-align: middle;\n",
       "    }\n",
       "\n",
       "    .dataframe tbody tr th {\n",
       "        vertical-align: top;\n",
       "    }\n",
       "\n",
       "    .dataframe thead th {\n",
       "        text-align: right;\n",
       "    }\n",
       "</style>\n",
       "<table border=\"1\" class=\"dataframe\">\n",
       "  <thead>\n",
       "    <tr style=\"text-align: right;\">\n",
       "      <th></th>\n",
       "      <th>Rooms</th>\n",
       "      <th>Type</th>\n",
       "      <th>Price</th>\n",
       "      <th>Method</th>\n",
       "      <th>Distance</th>\n",
       "      <th>Postcode</th>\n",
       "      <th>Bedroom2</th>\n",
       "      <th>Bathroom</th>\n",
       "      <th>Car</th>\n",
       "      <th>Landsize</th>\n",
       "      <th>BuildingArea</th>\n",
       "      <th>YearBuilt</th>\n",
       "      <th>CouncilArea</th>\n",
       "      <th>Lattitude</th>\n",
       "      <th>Longtitude</th>\n",
       "      <th>Regionname</th>\n",
       "      <th>Propertycount</th>\n",
       "    </tr>\n",
       "  </thead>\n",
       "  <tbody>\n",
       "    <tr>\n",
       "      <th>0</th>\n",
       "      <td>2</td>\n",
       "      <td>1</td>\n",
       "      <td>1480000</td>\n",
       "      <td>2</td>\n",
       "      <td>2.5</td>\n",
       "      <td>3067.0</td>\n",
       "      <td>2.0</td>\n",
       "      <td>1.0</td>\n",
       "      <td>1.0</td>\n",
       "      <td>202.0</td>\n",
       "      <td>NaN</td>\n",
       "      <td>NaN</td>\n",
       "      <td>32.0</td>\n",
       "      <td>-37.7996</td>\n",
       "      <td>144.9984</td>\n",
       "      <td>3.0</td>\n",
       "      <td>4019.0</td>\n",
       "    </tr>\n",
       "    <tr>\n",
       "      <th>1</th>\n",
       "      <td>2</td>\n",
       "      <td>1</td>\n",
       "      <td>1035000</td>\n",
       "      <td>2</td>\n",
       "      <td>2.5</td>\n",
       "      <td>3067.0</td>\n",
       "      <td>2.0</td>\n",
       "      <td>1.0</td>\n",
       "      <td>0.0</td>\n",
       "      <td>156.0</td>\n",
       "      <td>79.0</td>\n",
       "      <td>1900.0</td>\n",
       "      <td>32.0</td>\n",
       "      <td>-37.8079</td>\n",
       "      <td>144.9934</td>\n",
       "      <td>3.0</td>\n",
       "      <td>4019.0</td>\n",
       "    </tr>\n",
       "    <tr>\n",
       "      <th>2</th>\n",
       "      <td>3</td>\n",
       "      <td>1</td>\n",
       "      <td>1465000</td>\n",
       "      <td>4</td>\n",
       "      <td>2.5</td>\n",
       "      <td>3067.0</td>\n",
       "      <td>3.0</td>\n",
       "      <td>2.0</td>\n",
       "      <td>0.0</td>\n",
       "      <td>134.0</td>\n",
       "      <td>150.0</td>\n",
       "      <td>1900.0</td>\n",
       "      <td>32.0</td>\n",
       "      <td>-37.8093</td>\n",
       "      <td>144.9944</td>\n",
       "      <td>3.0</td>\n",
       "      <td>4019.0</td>\n",
       "    </tr>\n",
       "    <tr>\n",
       "      <th>3</th>\n",
       "      <td>3</td>\n",
       "      <td>1</td>\n",
       "      <td>850000</td>\n",
       "      <td>1</td>\n",
       "      <td>2.5</td>\n",
       "      <td>3067.0</td>\n",
       "      <td>3.0</td>\n",
       "      <td>2.0</td>\n",
       "      <td>1.0</td>\n",
       "      <td>94.0</td>\n",
       "      <td>NaN</td>\n",
       "      <td>NaN</td>\n",
       "      <td>32.0</td>\n",
       "      <td>-37.7969</td>\n",
       "      <td>144.9969</td>\n",
       "      <td>3.0</td>\n",
       "      <td>4019.0</td>\n",
       "    </tr>\n",
       "    <tr>\n",
       "      <th>4</th>\n",
       "      <td>4</td>\n",
       "      <td>1</td>\n",
       "      <td>1600000</td>\n",
       "      <td>5</td>\n",
       "      <td>2.5</td>\n",
       "      <td>3067.0</td>\n",
       "      <td>3.0</td>\n",
       "      <td>1.0</td>\n",
       "      <td>2.0</td>\n",
       "      <td>120.0</td>\n",
       "      <td>142.0</td>\n",
       "      <td>2014.0</td>\n",
       "      <td>32.0</td>\n",
       "      <td>-37.8072</td>\n",
       "      <td>144.9941</td>\n",
       "      <td>3.0</td>\n",
       "      <td>4019.0</td>\n",
       "    </tr>\n",
       "  </tbody>\n",
       "</table>\n",
       "</div>"
      ],
      "text/plain": [
       "   Rooms  Type    Price  Method  Distance  Postcode  Bedroom2  Bathroom  Car  \\\n",
       "0      2     1  1480000       2       2.5    3067.0       2.0       1.0  1.0   \n",
       "1      2     1  1035000       2       2.5    3067.0       2.0       1.0  0.0   \n",
       "2      3     1  1465000       4       2.5    3067.0       3.0       2.0  0.0   \n",
       "3      3     1   850000       1       2.5    3067.0       3.0       2.0  1.0   \n",
       "4      4     1  1600000       5       2.5    3067.0       3.0       1.0  2.0   \n",
       "\n",
       "   Landsize  BuildingArea  YearBuilt  CouncilArea  Lattitude  Longtitude  \\\n",
       "0     202.0           NaN        NaN         32.0   -37.7996    144.9984   \n",
       "1     156.0          79.0     1900.0         32.0   -37.8079    144.9934   \n",
       "2     134.0         150.0     1900.0         32.0   -37.8093    144.9944   \n",
       "3      94.0           NaN        NaN         32.0   -37.7969    144.9969   \n",
       "4     120.0         142.0     2014.0         32.0   -37.8072    144.9941   \n",
       "\n",
       "   Regionname  Propertycount  \n",
       "0         3.0         4019.0  \n",
       "1         3.0         4019.0  \n",
       "2         3.0         4019.0  \n",
       "3         3.0         4019.0  \n",
       "4         3.0         4019.0  "
      ]
     },
     "execution_count": 95,
     "metadata": {},
     "output_type": "execute_result"
    }
   ],
   "source": [
    "df.head()"
   ]
  },
  {
   "cell_type": "code",
   "execution_count": 96,
   "id": "dee4d92a",
   "metadata": {},
   "outputs": [
    {
     "name": "stdout",
     "output_type": "stream",
     "text": [
      "RMSE (Mean Imputation): 428062.78553278913\n",
      "RMSE (Forward Fill Imputation): 439799.7750078213\n",
      "RMSE (Machine Learning Model Imputation): 428062.78553278913\n",
      "RMSE (Drop Missing Values): 375455.4313943043\n"
     ]
    }
   ],
   "source": [
    "import pandas as pd\n",
    "from sklearn.model_selection import train_test_split\n",
    "from sklearn.linear_model import LinearRegression\n",
    "from sklearn.impute import SimpleImputer\n",
    "from sklearn.metrics import mean_squared_error\n",
    "import numpy as np\n",
    "\n",
    "# Sample dataset (replace this with your actual dataset)\n",
    "# df = ...\n",
    "\n",
    "# Extract the target variable and features\n",
    "X = df.drop('Price', axis=1)\n",
    "y = df['Price']\n",
    "\n",
    "# Split the data into training and testing sets\n",
    "X_train, X_test, y_train, y_test = train_test_split(X, y, test_size=0.2, random_state=42)\n",
    "\n",
    "# Function to impute missing values and calculate RMSE\n",
    "def impute_and_calculate_rmse(X_train, X_test, y_train, y_test, impute_method):\n",
    "    # Impute missing values in training and testing sets\n",
    "    if impute_method == 'drop':\n",
    "        X_train_imputed = X_train.dropna()\n",
    "        y_train_imputed = y_train.loc[X_train_imputed.index]\n",
    "        X_test_imputed = X_test.dropna()\n",
    "        y_test_imputed = y_test.loc[X_test_imputed.index]\n",
    "    else:\n",
    "        imputer = SimpleImputer(strategy=impute_method)\n",
    "        X_train_imputed = pd.DataFrame(imputer.fit_transform(X_train), columns=X_train.columns)\n",
    "        X_test_imputed = pd.DataFrame(imputer.transform(X_test), columns=X_test.columns)\n",
    "        y_train_imputed = y_train\n",
    "        y_test_imputed = y_test\n",
    "\n",
    "    # Train a model\n",
    "    model = LinearRegression()\n",
    "    model.fit(X_train_imputed, y_train_imputed)\n",
    "\n",
    "    # Predict on the testing set\n",
    "    y_pred = model.predict(X_test_imputed)\n",
    "\n",
    "    # Calculate RMSE\n",
    "    rmse = np.sqrt(mean_squared_error(y_test_imputed, y_pred))\n",
    "    return rmse\n",
    "\n",
    "# Compare RMSE for different imputation methods\n",
    "rmse_mean = impute_and_calculate_rmse(X_train, X_test, y_train, y_test, 'mean')\n",
    "rmse_forward_fill = impute_and_calculate_rmse(X_train, X_test, y_train, y_test, 'constant')\n",
    "rmse_ml_model = impute_and_calculate_rmse(X_train, X_test, y_train, y_test, 'mean')\n",
    "rmse_drop = impute_and_calculate_rmse(X_train, X_test, y_train, y_test, 'drop')\n",
    "\n",
    "print(f'RMSE (Mean Imputation): {rmse_mean}')\n",
    "print(f'RMSE (Forward Fill Imputation): {rmse_forward_fill}')\n",
    "print(f'RMSE (Machine Learning Model Imputation): {rmse_ml_model}')\n",
    "print(f'RMSE (Drop Missing Values): {rmse_drop}')\n"
   ]
  },
  {
   "cell_type": "code",
   "execution_count": 97,
   "id": "3ca0eb4d",
   "metadata": {},
   "outputs": [
    {
     "data": {
      "text/plain": [
       "(18396, 17)"
      ]
     },
     "execution_count": 97,
     "metadata": {},
     "output_type": "execute_result"
    }
   ],
   "source": [
    "df.shape"
   ]
  },
  {
   "cell_type": "code",
   "execution_count": 98,
   "id": "1301e7a8",
   "metadata": {},
   "outputs": [],
   "source": [
    "# Drop rows with any missing values\n",
    "df = df.dropna()"
   ]
  },
  {
   "cell_type": "code",
   "execution_count": 99,
   "id": "674240bd",
   "metadata": {},
   "outputs": [
    {
     "name": "stdout",
     "output_type": "stream",
     "text": [
      "Missing values in each column:\n",
      "Rooms            0\n",
      "Type             0\n",
      "Price            0\n",
      "Method           0\n",
      "Distance         0\n",
      "Postcode         0\n",
      "Bedroom2         0\n",
      "Bathroom         0\n",
      "Car              0\n",
      "Landsize         0\n",
      "BuildingArea     0\n",
      "YearBuilt        0\n",
      "CouncilArea      0\n",
      "Lattitude        0\n",
      "Longtitude       0\n",
      "Regionname       0\n",
      "Propertycount    0\n",
      "dtype: int64\n"
     ]
    }
   ],
   "source": [
    "import pandas as pd\n",
    "\n",
    "# Assuming your DataFrame is named df\n",
    "# You can replace df with your actual DataFrame variable name\n",
    "missing_values = df.isnull().sum()\n",
    "\n",
    "print(\"Missing values in each column:\")\n",
    "print(missing_values)\n"
   ]
  },
  {
   "cell_type": "code",
   "execution_count": 100,
   "id": "6993eae5",
   "metadata": {},
   "outputs": [
    {
     "data": {
      "text/plain": [
       "(6196, 17)"
      ]
     },
     "execution_count": 100,
     "metadata": {},
     "output_type": "execute_result"
    }
   ],
   "source": [
    "df.shape"
   ]
  },
  {
   "cell_type": "code",
   "execution_count": 101,
   "id": "629cfd77",
   "metadata": {},
   "outputs": [],
   "source": [
    "# Create a copy of the original DataFrame and replace the target variable with the predicted values\n",
    "clean2 = df.copy()\n",
    "\n",
    "\n",
    "# Save the cleaned dataset to a CSV file\n",
    "clean2.to_csv('clean2.csv', index=False)"
   ]
  },
  {
   "cell_type": "code",
   "execution_count": 102,
   "id": "5bee9f21",
   "metadata": {},
   "outputs": [],
   "source": [
    "df=pd.read_csv('clean2.csv')"
   ]
  },
  {
   "cell_type": "code",
   "execution_count": 103,
   "id": "af0bbc91",
   "metadata": {},
   "outputs": [
    {
     "name": "stdout",
     "output_type": "stream",
     "text": [
      "Missing values in each column:\n",
      "Rooms            0\n",
      "Type             0\n",
      "Price            0\n",
      "Method           0\n",
      "Distance         0\n",
      "Postcode         0\n",
      "Bedroom2         0\n",
      "Bathroom         0\n",
      "Car              0\n",
      "Landsize         0\n",
      "BuildingArea     0\n",
      "YearBuilt        0\n",
      "CouncilArea      0\n",
      "Lattitude        0\n",
      "Longtitude       0\n",
      "Regionname       0\n",
      "Propertycount    0\n",
      "dtype: int64\n"
     ]
    }
   ],
   "source": [
    "import pandas as pd\n",
    "\n",
    "# Assuming your DataFrame is named df\n",
    "# You can replace df with your actual DataFrame variable name\n",
    "missing_values = df.isnull().sum()\n",
    "\n",
    "print(\"Missing values in each column:\")\n",
    "print(missing_values)"
   ]
  },
  {
   "cell_type": "code",
   "execution_count": 104,
   "id": "2eb3958f",
   "metadata": {},
   "outputs": [
    {
     "data": {
      "text/plain": [
       "(6196, 17)"
      ]
     },
     "execution_count": 104,
     "metadata": {},
     "output_type": "execute_result"
    }
   ],
   "source": [
    "df.shape"
   ]
  },
  {
   "cell_type": "code",
   "execution_count": null,
   "id": "bf1e3d61",
   "metadata": {},
   "outputs": [],
   "source": []
  }
 ],
 "metadata": {
  "kernelspec": {
   "display_name": "Python 3 (ipykernel)",
   "language": "python",
   "name": "python3"
  },
  "language_info": {
   "codemirror_mode": {
    "name": "ipython",
    "version": 3
   },
   "file_extension": ".py",
   "mimetype": "text/x-python",
   "name": "python",
   "nbconvert_exporter": "python",
   "pygments_lexer": "ipython3",
   "version": "3.11.5"
  }
 },
 "nbformat": 4,
 "nbformat_minor": 5
}
